{
 "cells": [
  {
   "cell_type": "markdown",
   "id": "f908e933",
   "metadata": {},
   "source": [
    "# Food Safety Analysis"
   ]
  },
  {
   "cell_type": "markdown",
   "id": "ae8f61e2",
   "metadata": {},
   "source": [
    "This is an exploration of restaurant food safety scores for restaurants in San Francisco as of September 24, 2021.\n",
    "Data made available by the San Francisco Department of Public Health."
   ]
  },
  {
   "cell_type": "code",
   "execution_count": 1,
   "id": "a2ac1815",
   "metadata": {},
   "outputs": [],
   "source": [
    "import numpy as np\n",
    "import pandas as pd\n",
    "import matplotlib\n",
    "import matplotlib.pyplot as plt\n",
    "import seaborn as sns\n",
    "sns.set()\n",
    "plt.style.use('fivethirtyeight')\n",
    "\n",
    "import os"
   ]
  },
  {
   "cell_type": "markdown",
   "id": "9852bcc1",
   "metadata": {},
   "source": [
    "### File Systems and I/O"
   ]
  },
  {
   "cell_type": "code",
   "execution_count": 3,
   "id": "a725155d",
   "metadata": {},
   "outputs": [],
   "source": [
    "from pathlib import Path\n",
    "data_dir = Path('.')\n",
    "data_dir.mkdir(exist_ok = True)\n",
    "file_path = data_dir / Path('data.zip')\n",
    "dest_path = file_path"
   ]
  },
  {
   "cell_type": "markdown",
   "id": "76fb5dfb",
   "metadata": {},
   "source": [
    "### Reading in the data"
   ]
  },
  {
   "cell_type": "code",
   "execution_count": 4,
   "id": "cc5437d6",
   "metadata": {},
   "outputs": [],
   "source": [
    "data_dir = Path('.')\n",
    "dsDir = Path('data')\n",
    "bus = pd.read_csv(dsDir.joinpath('bus.csv'), encoding = 'ISO-8859-1')\n",
    "ins2vio = pd.read_csv(dsDir.joinpath('ins2vio.csv'))\n",
    "ins = pd.read_csv(dsDir.joinpath('ins.csv'))\n",
    "vio = pd.read_csv(dsDir.joinpath('vio.csv'))"
   ]
  },
  {
   "cell_type": "code",
   "execution_count": 5,
   "id": "8e535600",
   "metadata": {},
   "outputs": [
    {
     "data": {
      "text/html": [
       "<div>\n",
       "<style scoped>\n",
       "    .dataframe tbody tr th:only-of-type {\n",
       "        vertical-align: middle;\n",
       "    }\n",
       "\n",
       "    .dataframe tbody tr th {\n",
       "        vertical-align: top;\n",
       "    }\n",
       "\n",
       "    .dataframe thead th {\n",
       "        text-align: right;\n",
       "    }\n",
       "</style>\n",
       "<table border=\"1\" class=\"dataframe\">\n",
       "  <thead>\n",
       "    <tr style=\"text-align: right;\">\n",
       "      <th></th>\n",
       "      <th>business_id</th>\n",
       "      <th>name</th>\n",
       "      <th>address</th>\n",
       "      <th>city</th>\n",
       "      <th>state</th>\n",
       "      <th>postal code</th>\n",
       "      <th>latitude</th>\n",
       "      <th>longitude</th>\n",
       "      <th>phone_number</th>\n",
       "    </tr>\n",
       "  </thead>\n",
       "  <tbody>\n",
       "    <tr>\n",
       "      <th>0</th>\n",
       "      <td>835</td>\n",
       "      <td>Kam Po Kitchen</td>\n",
       "      <td>801 Broadway St</td>\n",
       "      <td>San Francisco</td>\n",
       "      <td>CA</td>\n",
       "      <td>94133</td>\n",
       "      <td>37.797223</td>\n",
       "      <td>-122.410513</td>\n",
       "      <td>NaN</td>\n",
       "    </tr>\n",
       "    <tr>\n",
       "      <th>1</th>\n",
       "      <td>905</td>\n",
       "      <td>Working Girls' Cafe'</td>\n",
       "      <td>0259 Kearny St</td>\n",
       "      <td>San Francisco</td>\n",
       "      <td>CA</td>\n",
       "      <td>94108</td>\n",
       "      <td>37.790477</td>\n",
       "      <td>-122.404033</td>\n",
       "      <td>NaN</td>\n",
       "    </tr>\n",
       "    <tr>\n",
       "      <th>2</th>\n",
       "      <td>1203</td>\n",
       "      <td>TAWAN'S THAI FOOD</td>\n",
       "      <td>4403 GEARY Blvd</td>\n",
       "      <td>San Francisco</td>\n",
       "      <td>CA</td>\n",
       "      <td>94118</td>\n",
       "      <td>37.780834</td>\n",
       "      <td>-122.466590</td>\n",
       "      <td>1.415576e+10</td>\n",
       "    </tr>\n",
       "    <tr>\n",
       "      <th>3</th>\n",
       "      <td>1345</td>\n",
       "      <td>Cordon Bleu</td>\n",
       "      <td>1574 California St</td>\n",
       "      <td>San Francisco</td>\n",
       "      <td>CA</td>\n",
       "      <td>94109</td>\n",
       "      <td>37.790683</td>\n",
       "      <td>-122.420264</td>\n",
       "      <td>NaN</td>\n",
       "    </tr>\n",
       "    <tr>\n",
       "      <th>4</th>\n",
       "      <td>1352</td>\n",
       "      <td>LA TORTILLA</td>\n",
       "      <td>495 Castro St B</td>\n",
       "      <td>San Francisco</td>\n",
       "      <td>CA</td>\n",
       "      <td>94114</td>\n",
       "      <td>37.760954</td>\n",
       "      <td>-122.434935</td>\n",
       "      <td>1.415586e+10</td>\n",
       "    </tr>\n",
       "  </tbody>\n",
       "</table>\n",
       "</div>"
      ],
      "text/plain": [
       "   business_id                  name             address           city state  \\\n",
       "0          835        Kam Po Kitchen     801 Broadway St  San Francisco    CA   \n",
       "1          905  Working Girls' Cafe'      0259 Kearny St  San Francisco    CA   \n",
       "2         1203     TAWAN'S THAI FOOD     4403 GEARY Blvd  San Francisco    CA   \n",
       "3         1345           Cordon Bleu  1574 California St  San Francisco    CA   \n",
       "4         1352           LA TORTILLA     495 Castro St B  San Francisco    CA   \n",
       "\n",
       "  postal code   latitude   longitude  phone_number  \n",
       "0       94133  37.797223 -122.410513           NaN  \n",
       "1       94108  37.790477 -122.404033           NaN  \n",
       "2       94118  37.780834 -122.466590  1.415576e+10  \n",
       "3       94109  37.790683 -122.420264           NaN  \n",
       "4       94114  37.760954 -122.434935  1.415586e+10  "
      ]
     },
     "metadata": {},
     "output_type": "display_data"
    },
    {
     "data": {
      "text/html": [
       "<div>\n",
       "<style scoped>\n",
       "    .dataframe tbody tr th:only-of-type {\n",
       "        vertical-align: middle;\n",
       "    }\n",
       "\n",
       "    .dataframe tbody tr th {\n",
       "        vertical-align: top;\n",
       "    }\n",
       "\n",
       "    .dataframe thead th {\n",
       "        text-align: right;\n",
       "    }\n",
       "</style>\n",
       "<table border=\"1\" class=\"dataframe\">\n",
       "  <thead>\n",
       "    <tr style=\"text-align: right;\">\n",
       "      <th></th>\n",
       "      <th>iid</th>\n",
       "      <th>date</th>\n",
       "      <th>score</th>\n",
       "      <th>type</th>\n",
       "    </tr>\n",
       "  </thead>\n",
       "  <tbody>\n",
       "    <tr>\n",
       "      <th>0</th>\n",
       "      <td>835_20180917</td>\n",
       "      <td>9/17/18 0:00</td>\n",
       "      <td>88.0</td>\n",
       "      <td>Routine - Unscheduled</td>\n",
       "    </tr>\n",
       "    <tr>\n",
       "      <th>1</th>\n",
       "      <td>905_20190415</td>\n",
       "      <td>4/15/19 0:00</td>\n",
       "      <td>87.0</td>\n",
       "      <td>Routine - Unscheduled</td>\n",
       "    </tr>\n",
       "    <tr>\n",
       "      <th>2</th>\n",
       "      <td>1203_20170803</td>\n",
       "      <td>8/3/17 0:00</td>\n",
       "      <td>77.0</td>\n",
       "      <td>Routine - Unscheduled</td>\n",
       "    </tr>\n",
       "    <tr>\n",
       "      <th>3</th>\n",
       "      <td>1345_20170928</td>\n",
       "      <td>9/28/17 0:00</td>\n",
       "      <td>81.0</td>\n",
       "      <td>Routine - Unscheduled</td>\n",
       "    </tr>\n",
       "    <tr>\n",
       "      <th>4</th>\n",
       "      <td>1352_20180620</td>\n",
       "      <td>6/20/18 0:00</td>\n",
       "      <td>74.0</td>\n",
       "      <td>Routine - Unscheduled</td>\n",
       "    </tr>\n",
       "  </tbody>\n",
       "</table>\n",
       "</div>"
      ],
      "text/plain": [
       "             iid          date  score                   type\n",
       "0   835_20180917  9/17/18 0:00   88.0  Routine - Unscheduled\n",
       "1   905_20190415  4/15/19 0:00   87.0  Routine - Unscheduled\n",
       "2  1203_20170803   8/3/17 0:00   77.0  Routine - Unscheduled\n",
       "3  1345_20170928  9/28/17 0:00   81.0  Routine - Unscheduled\n",
       "4  1352_20180620  6/20/18 0:00   74.0  Routine - Unscheduled"
      ]
     },
     "metadata": {},
     "output_type": "display_data"
    },
    {
     "data": {
      "text/html": [
       "<div>\n",
       "<style scoped>\n",
       "    .dataframe tbody tr th:only-of-type {\n",
       "        vertical-align: middle;\n",
       "    }\n",
       "\n",
       "    .dataframe tbody tr th {\n",
       "        vertical-align: top;\n",
       "    }\n",
       "\n",
       "    .dataframe thead th {\n",
       "        text-align: right;\n",
       "    }\n",
       "</style>\n",
       "<table border=\"1\" class=\"dataframe\">\n",
       "  <thead>\n",
       "    <tr style=\"text-align: right;\">\n",
       "      <th></th>\n",
       "      <th>description</th>\n",
       "      <th>risk_category</th>\n",
       "      <th>vid</th>\n",
       "    </tr>\n",
       "  </thead>\n",
       "  <tbody>\n",
       "    <tr>\n",
       "      <th>0</th>\n",
       "      <td>Improper food storage</td>\n",
       "      <td>Low Risk</td>\n",
       "      <td>835_20180917_103139</td>\n",
       "    </tr>\n",
       "    <tr>\n",
       "      <th>1</th>\n",
       "      <td>High risk vermin infestation</td>\n",
       "      <td>High Risk</td>\n",
       "      <td>905_20190415_103114</td>\n",
       "    </tr>\n",
       "    <tr>\n",
       "      <th>2</th>\n",
       "      <td>Moderate risk food holding temperature</td>\n",
       "      <td>Moderate Risk</td>\n",
       "      <td>1203_20170803_103120</td>\n",
       "    </tr>\n",
       "    <tr>\n",
       "      <th>3</th>\n",
       "      <td>Improper cooling methods</td>\n",
       "      <td>High Risk</td>\n",
       "      <td>1345_20170928_103105</td>\n",
       "    </tr>\n",
       "    <tr>\n",
       "      <th>4</th>\n",
       "      <td>Non service animal</td>\n",
       "      <td>Low Risk</td>\n",
       "      <td>1352_20180620_103177</td>\n",
       "    </tr>\n",
       "  </tbody>\n",
       "</table>\n",
       "</div>"
      ],
      "text/plain": [
       "                              description  risk_category                   vid\n",
       "0                   Improper food storage       Low Risk   835_20180917_103139\n",
       "1            High risk vermin infestation      High Risk   905_20190415_103114\n",
       "2  Moderate risk food holding temperature  Moderate Risk  1203_20170803_103120\n",
       "3                Improper cooling methods      High Risk  1345_20170928_103105\n",
       "4                      Non service animal       Low Risk  1352_20180620_103177"
      ]
     },
     "metadata": {},
     "output_type": "display_data"
    },
    {
     "data": {
      "text/html": [
       "<div>\n",
       "<style scoped>\n",
       "    .dataframe tbody tr th:only-of-type {\n",
       "        vertical-align: middle;\n",
       "    }\n",
       "\n",
       "    .dataframe tbody tr th {\n",
       "        vertical-align: top;\n",
       "    }\n",
       "\n",
       "    .dataframe thead th {\n",
       "        text-align: right;\n",
       "    }\n",
       "</style>\n",
       "<table border=\"1\" class=\"dataframe\">\n",
       "  <thead>\n",
       "    <tr style=\"text-align: right;\">\n",
       "      <th></th>\n",
       "      <th>iid</th>\n",
       "      <th>vid</th>\n",
       "    </tr>\n",
       "  </thead>\n",
       "  <tbody>\n",
       "    <tr>\n",
       "      <th>0</th>\n",
       "      <td>835_20180917</td>\n",
       "      <td>835_20180917_103139</td>\n",
       "    </tr>\n",
       "    <tr>\n",
       "      <th>1</th>\n",
       "      <td>905_20190415</td>\n",
       "      <td>905_20190415_103114</td>\n",
       "    </tr>\n",
       "    <tr>\n",
       "      <th>2</th>\n",
       "      <td>1203_20170803</td>\n",
       "      <td>1203_20170803_103120</td>\n",
       "    </tr>\n",
       "    <tr>\n",
       "      <th>3</th>\n",
       "      <td>1345_20170928</td>\n",
       "      <td>1345_20170928_103105</td>\n",
       "    </tr>\n",
       "    <tr>\n",
       "      <th>4</th>\n",
       "      <td>1352_20180620</td>\n",
       "      <td>1352_20180620_103177</td>\n",
       "    </tr>\n",
       "  </tbody>\n",
       "</table>\n",
       "</div>"
      ],
      "text/plain": [
       "             iid                   vid\n",
       "0   835_20180917   835_20180917_103139\n",
       "1   905_20190415   905_20190415_103114\n",
       "2  1203_20170803  1203_20170803_103120\n",
       "3  1345_20170928  1345_20170928_103105\n",
       "4  1352_20180620  1352_20180620_103177"
      ]
     },
     "metadata": {},
     "output_type": "display_data"
    }
   ],
   "source": [
    "display(bus.head(5), ins.head(5), vio.head(5), ins2vio.head(5))"
   ]
  },
  {
   "cell_type": "markdown",
   "id": "aad5bd5d",
   "metadata": {},
   "source": [
    "#### 'iid' = inspection id, 'vid' = violation id"
   ]
  },
  {
   "cell_type": "markdown",
   "id": "fb8b7b7a",
   "metadata": {},
   "source": [
    "### Cleaning the data"
   ]
  },
  {
   "cell_type": "code",
   "execution_count": 6,
   "id": "8556adfd",
   "metadata": {},
   "outputs": [],
   "source": [
    "bus['phone_number'] = bus['phone_number'].fillna(value = '-9999')\n",
    "bus['latitude'] = bus['latitude'].fillna(value = '-9999')\n",
    "bus['longitude'] = bus['longitude'].fillna(value = '-9999')\n",
    "bus['postal code'] = bus['postal code'].fillna(value = '-9999')\n",
    "ins['score'] = ins['score'].fillna(value = '-1')\n"
   ]
  },
  {
   "cell_type": "code",
   "execution_count": 7,
   "id": "c00d3a24",
   "metadata": {},
   "outputs": [],
   "source": [
    "bus = bus.rename(columns ={'business_id': 'bid'})"
   ]
  },
  {
   "cell_type": "markdown",
   "id": "173ead0a",
   "metadata": {},
   "source": [
    "### Examining the data"
   ]
  },
  {
   "cell_type": "code",
   "execution_count": 8,
   "id": "0ee2660e",
   "metadata": {},
   "outputs": [
    {
     "data": {
      "text/plain": [
       "False"
      ]
     },
     "execution_count": 8,
     "metadata": {},
     "output_type": "execute_result"
    }
   ],
   "source": [
    "is_bid_unique = (len(bus['bid'].unique()) == bus.shape[0])\n",
    "is_bid_unique #are the businesses unique in the dataset"
   ]
  },
  {
   "cell_type": "code",
   "execution_count": 9,
   "id": "54f32ee7",
   "metadata": {},
   "outputs": [
    {
     "data": {
      "text/plain": [
       "Peet's Coffee & Tea         151\n",
       "McDonald's                  110\n",
       "Whole Foods Market           97\n",
       "Jamba Juice                  83\n",
       "Mixt Greens/Mixt             81\n",
       "Pakwan Restaurant            81\n",
       "Henry's Hunan Restaurant     72\n",
       "Lee's Deli                   70\n",
       "Quickly                      64\n",
       "Starbucks Coffee             64\n",
       "Name: name, dtype: int64"
      ]
     },
     "execution_count": 9,
     "metadata": {},
     "output_type": "execute_result"
    }
   ],
   "source": [
    "name_counts = bus['name'].value_counts()\n",
    "name_counts.head(10) #number of records per business name"
   ]
  },
  {
   "cell_type": "code",
   "execution_count": 10,
   "id": "3215cc13",
   "metadata": {},
   "outputs": [
    {
     "data": {
      "text/plain": [
       "428 11th St                   200\n",
       "Off The Grid                  199\n",
       "3251 20th Ave                 107\n",
       "24 Willie Mays Plaza           66\n",
       "1355 Market St                 66\n",
       "1 Market St                    59\n",
       "Off the Grid                   58\n",
       "Pier 41                        55\n",
       "601 Mission Bay Blvd North     50\n",
       "2300 16th St                   50\n",
       "Name: address, dtype: int64"
      ]
     },
     "execution_count": 10,
     "metadata": {},
     "output_type": "execute_result"
    }
   ],
   "source": [
    "address_counts = bus['address'].value_counts()\n",
    "address_counts.head(10) #number of records per address"
   ]
  },
  {
   "cell_type": "markdown",
   "id": "32343a7f",
   "metadata": {},
   "source": [
    "## Cleaning the Business Data Postal Codes"
   ]
  },
  {
   "cell_type": "markdown",
   "id": "98888acc",
   "metadata": {},
   "source": [
    "Using the postal code information to aggregate the ratings over regions of the city. The postal code (ZIP code) partitions the city into regions:\n",
    "<img src=\"https://www.usmapguide.com/wp-content/uploads/2019/03/printable-san-francisco-zip-code-map.jpg\" alt=\"ZIP Code Map\" style=\"width: 600px\">"
   ]
  },
  {
   "cell_type": "code",
   "execution_count": 11,
   "id": "45365442",
   "metadata": {},
   "outputs": [
    {
     "data": {
      "text/plain": [
       "94110    5921\n",
       "94103    4868\n",
       "94102    3789\n",
       "94109    3692\n",
       "94133    3325\n",
       "94107    2718\n",
       "94118    2633\n",
       "94112    2333\n",
       "94122    2158\n",
       "94105    2104\n",
       "Name: postal code, dtype: int64"
      ]
     },
     "execution_count": 11,
     "metadata": {},
     "output_type": "execute_result"
    }
   ],
   "source": [
    "zip_counts = bus['postal code'].value_counts()\n",
    "zip_counts.head(10)"
   ]
  },
  {
   "cell_type": "code",
   "execution_count": 12,
   "id": "d28849cc",
   "metadata": {},
   "outputs": [],
   "source": [
    "valid_zips = pd.read_json('data/sf_zipcodes.json',dtype = 'str')['zip_codes'] \n",
    "#series of valid ZIP codes in the data to make examination easier"
   ]
  },
  {
   "cell_type": "code",
   "execution_count": 13,
   "id": "bd3a9864",
   "metadata": {},
   "outputs": [
    {
     "data": {
      "text/html": [
       "<div>\n",
       "<style scoped>\n",
       "    .dataframe tbody tr th:only-of-type {\n",
       "        vertical-align: middle;\n",
       "    }\n",
       "\n",
       "    .dataframe tbody tr th {\n",
       "        vertical-align: top;\n",
       "    }\n",
       "\n",
       "    .dataframe thead th {\n",
       "        text-align: right;\n",
       "    }\n",
       "</style>\n",
       "<table border=\"1\" class=\"dataframe\">\n",
       "  <thead>\n",
       "    <tr style=\"text-align: right;\">\n",
       "      <th></th>\n",
       "      <th>bid</th>\n",
       "      <th>name</th>\n",
       "      <th>address</th>\n",
       "      <th>city</th>\n",
       "      <th>state</th>\n",
       "      <th>postal code</th>\n",
       "      <th>latitude</th>\n",
       "      <th>longitude</th>\n",
       "      <th>phone_number</th>\n",
       "    </tr>\n",
       "  </thead>\n",
       "  <tbody>\n",
       "    <tr>\n",
       "      <th>16</th>\n",
       "      <td>38146</td>\n",
       "      <td>San Pancho's Tacos</td>\n",
       "      <td>491 Bayshore St</td>\n",
       "      <td>San Francisco</td>\n",
       "      <td>CA</td>\n",
       "      <td>-9999</td>\n",
       "      <td>-9999</td>\n",
       "      <td>-9999</td>\n",
       "      <td>14155271520.0</td>\n",
       "    </tr>\n",
       "    <tr>\n",
       "      <th>20</th>\n",
       "      <td>64738</td>\n",
       "      <td>Japacurry</td>\n",
       "      <td>Public</td>\n",
       "      <td>San Francisco</td>\n",
       "      <td>CA</td>\n",
       "      <td>CA</td>\n",
       "      <td>37.777122</td>\n",
       "      <td>-122.419639</td>\n",
       "      <td>-9999</td>\n",
       "    </tr>\n",
       "    <tr>\n",
       "      <th>37</th>\n",
       "      <td>70779</td>\n",
       "      <td>Davids Tea</td>\n",
       "      <td>845 Market St #13</td>\n",
       "      <td>San Francisco</td>\n",
       "      <td>CA</td>\n",
       "      <td>-9999</td>\n",
       "      <td>-9999</td>\n",
       "      <td>-9999</td>\n",
       "      <td>-9999</td>\n",
       "    </tr>\n",
       "    <tr>\n",
       "      <th>42</th>\n",
       "      <td>74869</td>\n",
       "      <td>Sabrosa</td>\n",
       "      <td>3200 Fillmore St</td>\n",
       "      <td>San Francisco</td>\n",
       "      <td>CA</td>\n",
       "      <td>-9999</td>\n",
       "      <td>-9999</td>\n",
       "      <td>-9999</td>\n",
       "      <td>-9999</td>\n",
       "    </tr>\n",
       "    <tr>\n",
       "      <th>44</th>\n",
       "      <td>76784</td>\n",
       "      <td>Capital Restaurant</td>\n",
       "      <td>839 Clay</td>\n",
       "      <td>San Francisco</td>\n",
       "      <td>CA</td>\n",
       "      <td>-9999</td>\n",
       "      <td>-9999</td>\n",
       "      <td>-9999</td>\n",
       "      <td>-9999</td>\n",
       "    </tr>\n",
       "    <tr>\n",
       "      <th>57</th>\n",
       "      <td>80405</td>\n",
       "      <td>Liholiho Yacht Club</td>\n",
       "      <td>871 Sutter St</td>\n",
       "      <td>San Francisco</td>\n",
       "      <td>CA</td>\n",
       "      <td>-9999</td>\n",
       "      <td>-9999</td>\n",
       "      <td>-9999</td>\n",
       "      <td>-9999</td>\n",
       "    </tr>\n",
       "    <tr>\n",
       "      <th>58</th>\n",
       "      <td>80620</td>\n",
       "      <td>Cafe 55</td>\n",
       "      <td>55 Stockton St</td>\n",
       "      <td>San Francisco</td>\n",
       "      <td>CA</td>\n",
       "      <td>-9999</td>\n",
       "      <td>-9999</td>\n",
       "      <td>-9999</td>\n",
       "      <td>14155977688.0</td>\n",
       "    </tr>\n",
       "    <tr>\n",
       "      <th>65</th>\n",
       "      <td>82880</td>\n",
       "      <td>Don Pablo</td>\n",
       "      <td>Off The Grid</td>\n",
       "      <td>San Francisco</td>\n",
       "      <td>CA</td>\n",
       "      <td>-9999</td>\n",
       "      <td>-9999</td>\n",
       "      <td>-9999</td>\n",
       "      <td>-9999</td>\n",
       "    </tr>\n",
       "    <tr>\n",
       "      <th>66</th>\n",
       "      <td>83636</td>\n",
       "      <td>Sam's Chowder Mobile #4</td>\n",
       "      <td>Off The Grid</td>\n",
       "      <td>San Francisco</td>\n",
       "      <td>CA</td>\n",
       "      <td>-9999</td>\n",
       "      <td>-9999</td>\n",
       "      <td>-9999</td>\n",
       "      <td>-9999</td>\n",
       "    </tr>\n",
       "    <tr>\n",
       "      <th>80</th>\n",
       "      <td>88155</td>\n",
       "      <td>Limon Rotisserie</td>\n",
       "      <td>Off The Grid</td>\n",
       "      <td>San Francisco</td>\n",
       "      <td>CA</td>\n",
       "      <td>-9999</td>\n",
       "      <td>-9999</td>\n",
       "      <td>-9999</td>\n",
       "      <td>-9999</td>\n",
       "    </tr>\n",
       "  </tbody>\n",
       "</table>\n",
       "</div>"
      ],
      "text/plain": [
       "      bid                     name            address           city state  \\\n",
       "16  38146       San Pancho's Tacos    491 Bayshore St  San Francisco    CA   \n",
       "20  64738                Japacurry             Public  San Francisco    CA   \n",
       "37  70779               Davids Tea  845 Market St #13  San Francisco    CA   \n",
       "42  74869                  Sabrosa   3200 Fillmore St  San Francisco    CA   \n",
       "44  76784       Capital Restaurant           839 Clay  San Francisco    CA   \n",
       "57  80405      Liholiho Yacht Club      871 Sutter St  San Francisco    CA   \n",
       "58  80620                  Cafe 55     55 Stockton St  San Francisco    CA   \n",
       "65  82880                Don Pablo       Off The Grid  San Francisco    CA   \n",
       "66  83636  Sam's Chowder Mobile #4       Off The Grid  San Francisco    CA   \n",
       "80  88155         Limon Rotisserie       Off The Grid  San Francisco    CA   \n",
       "\n",
       "   postal code   latitude   longitude   phone_number  \n",
       "16       -9999      -9999       -9999  14155271520.0  \n",
       "20          CA  37.777122 -122.419639          -9999  \n",
       "37       -9999      -9999       -9999          -9999  \n",
       "42       -9999      -9999       -9999          -9999  \n",
       "44       -9999      -9999       -9999          -9999  \n",
       "57       -9999      -9999       -9999          -9999  \n",
       "58       -9999      -9999       -9999  14155977688.0  \n",
       "65       -9999      -9999       -9999          -9999  \n",
       "66       -9999      -9999       -9999          -9999  \n",
       "80       -9999      -9999       -9999          -9999  "
      ]
     },
     "execution_count": 13,
     "metadata": {},
     "output_type": "execute_result"
    }
   ],
   "source": [
    "#examine the invalid ZIP codes in the data\n",
    "invalid_zip_bus = bus[~(bus['postal code'].isin(valid_zips))]\n",
    "invalid_zip_bus.head(10)"
   ]
  },
  {
   "cell_type": "code",
   "execution_count": 14,
   "id": "c22e075f",
   "metadata": {},
   "outputs": [
    {
     "data": {
      "text/plain": [
       "Off The Grid        199\n",
       "Off the Grid         55\n",
       "1717 Harrison St     27\n",
       "625 Clement St       25\n",
       "842 Geary St         25\n",
       "Name: address, dtype: int64"
      ]
     },
     "execution_count": 14,
     "metadata": {},
     "output_type": "execute_result"
    }
   ],
   "source": [
    "#check for commonalities among invalid postal codes\n",
    "missing_zip_address_count = invalid_zip_bus[invalid_zip_bus['postal code'] == '-9999']['address'].value_counts()\n",
    "missing_zip_address_count.head()"
   ]
  },
  {
   "cell_type": "markdown",
   "id": "50d9e551",
   "metadata": {},
   "source": [
    "If these businesses were to be dropped from analysis, samller businesses would not be properly represented in this analysis. "
   ]
  },
  {
   "cell_type": "markdown",
   "id": "0450c828",
   "metadata": {},
   "source": [
    "## Investigating the Inspection Data"
   ]
  },
  {
   "cell_type": "code",
   "execution_count": 15,
   "id": "cebfb195",
   "metadata": {},
   "outputs": [
    {
     "data": {
      "text/plain": [
       "False"
      ]
     },
     "execution_count": 15,
     "metadata": {},
     "output_type": "execute_result"
    }
   ],
   "source": [
    "#check that all the inspection id in ins table are unique\n",
    "ins['iid'].is_unique"
   ]
  },
  {
   "cell_type": "code",
   "execution_count": 23,
   "id": "70406435",
   "metadata": {},
   "outputs": [],
   "source": [
    "#remove any duplicate rows \n",
    "ins = ins.drop_duplicates()"
   ]
  },
  {
   "cell_type": "code",
   "execution_count": 24,
   "id": "cb1a11b3",
   "metadata": {},
   "outputs": [
    {
     "data": {
      "text/plain": [
       "True"
      ]
     },
     "execution_count": 24,
     "metadata": {},
     "output_type": "execute_result"
    }
   ],
   "source": [
    "ins['iid'].is_unique"
   ]
  },
  {
   "cell_type": "markdown",
   "id": "7c5e1a79",
   "metadata": {},
   "source": [
    "For the iid column in the inspection table, the first 3 numbers seem to correlate to the business id. I then want to add a business id column to the inspection table for easier manipulation later."
   ]
  },
  {
   "cell_type": "code",
   "execution_count": 25,
   "id": "0730edd4",
   "metadata": {},
   "outputs": [],
   "source": [
    "ins['bid'] = ins['iid'].str.split('_')\n",
    "ins['bid'] = pd.DataFrame(ins.bid.tolist(), index = ins.index)\n",
    "ins['bid'] = ins['bid'].astype(int)"
   ]
  },
  {
   "cell_type": "code",
   "execution_count": 27,
   "id": "22dc195b",
   "metadata": {},
   "outputs": [
    {
     "data": {
      "text/plain": [
       "0"
      ]
     },
     "execution_count": 27,
     "metadata": {},
     "output_type": "execute_result"
    }
   ],
   "source": [
    "#check that the business id's are valid \n",
    "invalid_bid_count =  sum(~(ins['bid'].isin(bus['bid'])))\n",
    "invalid_bid_count"
   ]
  },
  {
   "cell_type": "markdown",
   "id": "e2304d84",
   "metadata": {},
   "source": [
    "Edit the date column in the inspection table into a Timestamp object for easier manipulation. "
   ]
  },
  {
   "cell_type": "code",
   "execution_count": 28,
   "id": "9a1de7bf",
   "metadata": {},
   "outputs": [],
   "source": [
    "ins['timestamp'] = pd.to_datetime(ins['date'])"
   ]
  },
  {
   "cell_type": "code",
   "execution_count": 29,
   "id": "9ae3b2b5",
   "metadata": {},
   "outputs": [
    {
     "name": "stdout",
     "output_type": "stream",
     "text": [
      "Earliest Date: 2016-10-04 00:00:00\n",
      "Latest Date: 2019-11-28 00:00:00\n"
     ]
    }
   ],
   "source": [
    "#Find earliest and latest dates in the inspection data\n",
    "earliest_date = min(ins['timestamp'])\n",
    "latest_date = max(ins['timestamp'])\n",
    "print(\"Earliest Date:\", earliest_date)\n",
    "print(\"Latest Date:\", latest_date)"
   ]
  },
  {
   "cell_type": "code",
   "execution_count": 30,
   "id": "c95361b9",
   "metadata": {},
   "outputs": [],
   "source": [
    "#create a year column in the inspection table\n",
    "ins['year'] = ins['timestamp'].dt.year"
   ]
  },
  {
   "cell_type": "markdown",
   "id": "bbae38ff",
   "metadata": {},
   "source": [
    "Look at inspection trends over the years."
   ]
  },
  {
   "cell_type": "code",
   "execution_count": 31,
   "id": "a39cc27e",
   "metadata": {},
   "outputs": [
    {
     "data": {
      "text/html": [
       "<div>\n",
       "<style scoped>\n",
       "    .dataframe tbody tr th:only-of-type {\n",
       "        vertical-align: middle;\n",
       "    }\n",
       "\n",
       "    .dataframe tbody tr th {\n",
       "        vertical-align: top;\n",
       "    }\n",
       "\n",
       "    .dataframe thead th {\n",
       "        text-align: right;\n",
       "    }\n",
       "</style>\n",
       "<table border=\"1\" class=\"dataframe\">\n",
       "  <thead>\n",
       "    <tr style=\"text-align: right;\">\n",
       "      <th>year</th>\n",
       "      <th>2016</th>\n",
       "      <th>2017</th>\n",
       "      <th>2018</th>\n",
       "      <th>2019</th>\n",
       "      <th>Total</th>\n",
       "    </tr>\n",
       "    <tr>\n",
       "      <th>type</th>\n",
       "      <th></th>\n",
       "      <th></th>\n",
       "      <th></th>\n",
       "      <th></th>\n",
       "      <th></th>\n",
       "    </tr>\n",
       "  </thead>\n",
       "  <tbody>\n",
       "    <tr>\n",
       "      <th>Routine - Unscheduled</th>\n",
       "      <td>966</td>\n",
       "      <td>4057</td>\n",
       "      <td>4373</td>\n",
       "      <td>4681</td>\n",
       "      <td>14077</td>\n",
       "    </tr>\n",
       "    <tr>\n",
       "      <th>Reinspection/Followup</th>\n",
       "      <td>445</td>\n",
       "      <td>1767</td>\n",
       "      <td>1935</td>\n",
       "      <td>2292</td>\n",
       "      <td>6439</td>\n",
       "    </tr>\n",
       "    <tr>\n",
       "      <th>New Ownership</th>\n",
       "      <td>99</td>\n",
       "      <td>506</td>\n",
       "      <td>528</td>\n",
       "      <td>459</td>\n",
       "      <td>1592</td>\n",
       "    </tr>\n",
       "    <tr>\n",
       "      <th>Complaint</th>\n",
       "      <td>91</td>\n",
       "      <td>418</td>\n",
       "      <td>512</td>\n",
       "      <td>437</td>\n",
       "      <td>1458</td>\n",
       "    </tr>\n",
       "    <tr>\n",
       "      <th>New Construction</th>\n",
       "      <td>102</td>\n",
       "      <td>485</td>\n",
       "      <td>218</td>\n",
       "      <td>189</td>\n",
       "      <td>994</td>\n",
       "    </tr>\n",
       "    <tr>\n",
       "      <th>Non-inspection site visit</th>\n",
       "      <td>51</td>\n",
       "      <td>276</td>\n",
       "      <td>253</td>\n",
       "      <td>231</td>\n",
       "      <td>811</td>\n",
       "    </tr>\n",
       "    <tr>\n",
       "      <th>New Ownership - Followup</th>\n",
       "      <td>0</td>\n",
       "      <td>45</td>\n",
       "      <td>219</td>\n",
       "      <td>235</td>\n",
       "      <td>499</td>\n",
       "    </tr>\n",
       "    <tr>\n",
       "      <th>Structural Inspection</th>\n",
       "      <td>1</td>\n",
       "      <td>153</td>\n",
       "      <td>50</td>\n",
       "      <td>190</td>\n",
       "      <td>394</td>\n",
       "    </tr>\n",
       "    <tr>\n",
       "      <th>Complaint Reinspection/Followup</th>\n",
       "      <td>19</td>\n",
       "      <td>68</td>\n",
       "      <td>70</td>\n",
       "      <td>70</td>\n",
       "      <td>227</td>\n",
       "    </tr>\n",
       "    <tr>\n",
       "      <th>Foodborne Illness Investigation</th>\n",
       "      <td>1</td>\n",
       "      <td>29</td>\n",
       "      <td>50</td>\n",
       "      <td>35</td>\n",
       "      <td>115</td>\n",
       "    </tr>\n",
       "    <tr>\n",
       "      <th>Routine - Scheduled</th>\n",
       "      <td>0</td>\n",
       "      <td>9</td>\n",
       "      <td>8</td>\n",
       "      <td>29</td>\n",
       "      <td>46</td>\n",
       "    </tr>\n",
       "    <tr>\n",
       "      <th>Administrative or Document Review</th>\n",
       "      <td>2</td>\n",
       "      <td>1</td>\n",
       "      <td>1</td>\n",
       "      <td>0</td>\n",
       "      <td>4</td>\n",
       "    </tr>\n",
       "    <tr>\n",
       "      <th>Multi-agency Investigation</th>\n",
       "      <td>0</td>\n",
       "      <td>0</td>\n",
       "      <td>1</td>\n",
       "      <td>2</td>\n",
       "      <td>3</td>\n",
       "    </tr>\n",
       "    <tr>\n",
       "      <th>Special Event</th>\n",
       "      <td>0</td>\n",
       "      <td>3</td>\n",
       "      <td>0</td>\n",
       "      <td>0</td>\n",
       "      <td>3</td>\n",
       "    </tr>\n",
       "    <tr>\n",
       "      <th>Community Health Assessment</th>\n",
       "      <td>1</td>\n",
       "      <td>0</td>\n",
       "      <td>0</td>\n",
       "      <td>0</td>\n",
       "      <td>1</td>\n",
       "    </tr>\n",
       "  </tbody>\n",
       "</table>\n",
       "</div>"
      ],
      "text/plain": [
       "year                               2016  2017  2018  2019  Total\n",
       "type                                                            \n",
       "Routine - Unscheduled               966  4057  4373  4681  14077\n",
       "Reinspection/Followup               445  1767  1935  2292   6439\n",
       "New Ownership                        99   506   528   459   1592\n",
       "Complaint                            91   418   512   437   1458\n",
       "New Construction                    102   485   218   189    994\n",
       "Non-inspection site visit            51   276   253   231    811\n",
       "New Ownership - Followup              0    45   219   235    499\n",
       "Structural Inspection                 1   153    50   190    394\n",
       "Complaint Reinspection/Followup      19    68    70    70    227\n",
       "Foodborne Illness Investigation       1    29    50    35    115\n",
       "Routine - Scheduled                   0     9     8    29     46\n",
       "Administrative or Document Review     2     1     1     0      4\n",
       "Multi-agency Investigation            0     0     1     2      3\n",
       "Special Event                         0     3     0     0      3\n",
       "Community Health Assessment           1     0     0     0      1"
      ]
     },
     "execution_count": 31,
     "metadata": {},
     "output_type": "execute_result"
    }
   ],
   "source": [
    "ins_pivot = pd.pivot_table(ins[['type','year']], index = 'type', columns = 'year', aggfunc = len, fill_value = 0)\n",
    "\n",
    "ins_pivot['Total'] = ins_pivot.sum(axis = 1)\n",
    "ins_pivot_sorted = ins_pivot.sort_values('Total', ascending = False)\n",
    "\n",
    "ins_pivot_sorted"
   ]
  },
  {
   "cell_type": "markdown",
   "id": "7c1cda73",
   "metadata": {},
   "source": [
    "Examine the inspection scores"
   ]
  },
  {
   "cell_type": "code",
   "execution_count": 32,
   "id": "83a25515",
   "metadata": {},
   "outputs": [
    {
     "data": {
      "text/plain": [
       "-1       12632\n",
       "100.0     1993\n",
       "96.0      1681\n",
       "92.0      1260\n",
       "94.0      1250\n",
       "Name: score, dtype: int64"
      ]
     },
     "execution_count": 32,
     "metadata": {},
     "output_type": "execute_result"
    }
   ],
   "source": [
    "ins['score'].value_counts().head()"
   ]
  },
  {
   "cell_type": "code",
   "execution_count": 42,
   "id": "c12cf63f",
   "metadata": {},
   "outputs": [
    {
     "data": {
      "text/html": [
       "<div>\n",
       "<style scoped>\n",
       "    .dataframe tbody tr th:only-of-type {\n",
       "        vertical-align: middle;\n",
       "    }\n",
       "\n",
       "    .dataframe tbody tr th {\n",
       "        vertical-align: top;\n",
       "    }\n",
       "\n",
       "    .dataframe thead th {\n",
       "        text-align: right;\n",
       "    }\n",
       "</style>\n",
       "<table border=\"1\" class=\"dataframe\">\n",
       "  <thead>\n",
       "    <tr style=\"text-align: right;\">\n",
       "      <th>Missing Score</th>\n",
       "      <th>False</th>\n",
       "      <th>True</th>\n",
       "      <th>Total</th>\n",
       "    </tr>\n",
       "    <tr>\n",
       "      <th>type</th>\n",
       "      <th></th>\n",
       "      <th></th>\n",
       "      <th></th>\n",
       "    </tr>\n",
       "  </thead>\n",
       "  <tbody>\n",
       "    <tr>\n",
       "      <th>Routine - Unscheduled</th>\n",
       "      <td>14031</td>\n",
       "      <td>46</td>\n",
       "      <td>14077</td>\n",
       "    </tr>\n",
       "    <tr>\n",
       "      <th>Reinspection/Followup</th>\n",
       "      <td>0</td>\n",
       "      <td>6439</td>\n",
       "      <td>6439</td>\n",
       "    </tr>\n",
       "    <tr>\n",
       "      <th>New Ownership</th>\n",
       "      <td>0</td>\n",
       "      <td>1592</td>\n",
       "      <td>1592</td>\n",
       "    </tr>\n",
       "    <tr>\n",
       "      <th>Complaint</th>\n",
       "      <td>0</td>\n",
       "      <td>1458</td>\n",
       "      <td>1458</td>\n",
       "    </tr>\n",
       "    <tr>\n",
       "      <th>New Construction</th>\n",
       "      <td>0</td>\n",
       "      <td>994</td>\n",
       "      <td>994</td>\n",
       "    </tr>\n",
       "    <tr>\n",
       "      <th>Non-inspection site visit</th>\n",
       "      <td>0</td>\n",
       "      <td>811</td>\n",
       "      <td>811</td>\n",
       "    </tr>\n",
       "    <tr>\n",
       "      <th>New Ownership - Followup</th>\n",
       "      <td>0</td>\n",
       "      <td>499</td>\n",
       "      <td>499</td>\n",
       "    </tr>\n",
       "    <tr>\n",
       "      <th>Structural Inspection</th>\n",
       "      <td>0</td>\n",
       "      <td>394</td>\n",
       "      <td>394</td>\n",
       "    </tr>\n",
       "    <tr>\n",
       "      <th>Complaint Reinspection/Followup</th>\n",
       "      <td>0</td>\n",
       "      <td>227</td>\n",
       "      <td>227</td>\n",
       "    </tr>\n",
       "    <tr>\n",
       "      <th>Foodborne Illness Investigation</th>\n",
       "      <td>0</td>\n",
       "      <td>115</td>\n",
       "      <td>115</td>\n",
       "    </tr>\n",
       "    <tr>\n",
       "      <th>Routine - Scheduled</th>\n",
       "      <td>0</td>\n",
       "      <td>46</td>\n",
       "      <td>46</td>\n",
       "    </tr>\n",
       "    <tr>\n",
       "      <th>Administrative or Document Review</th>\n",
       "      <td>0</td>\n",
       "      <td>4</td>\n",
       "      <td>4</td>\n",
       "    </tr>\n",
       "    <tr>\n",
       "      <th>Multi-agency Investigation</th>\n",
       "      <td>0</td>\n",
       "      <td>3</td>\n",
       "      <td>3</td>\n",
       "    </tr>\n",
       "    <tr>\n",
       "      <th>Special Event</th>\n",
       "      <td>0</td>\n",
       "      <td>3</td>\n",
       "      <td>3</td>\n",
       "    </tr>\n",
       "    <tr>\n",
       "      <th>Community Health Assessment</th>\n",
       "      <td>0</td>\n",
       "      <td>1</td>\n",
       "      <td>1</td>\n",
       "    </tr>\n",
       "  </tbody>\n",
       "</table>\n",
       "</div>"
      ],
      "text/plain": [
       "Missing Score                      False  True  Total\n",
       "type                                                 \n",
       "Routine - Unscheduled              14031    46  14077\n",
       "Reinspection/Followup                  0  6439   6439\n",
       "New Ownership                          0  1592   1592\n",
       "Complaint                              0  1458   1458\n",
       "New Construction                       0   994    994\n",
       "Non-inspection site visit              0   811    811\n",
       "New Ownership - Followup               0   499    499\n",
       "Structural Inspection                  0   394    394\n",
       "Complaint Reinspection/Followup        0   227    227\n",
       "Foodborne Illness Investigation        0   115    115\n",
       "Routine - Scheduled                    0    46     46\n",
       "Administrative or Document Review      0     4      4\n",
       "Multi-agency Investigation             0     3      3\n",
       "Special Event                          0     3      3\n",
       "Community Health Assessment            0     1      1"
      ]
     },
     "execution_count": 42,
     "metadata": {},
     "output_type": "execute_result"
    }
   ],
   "source": [
    "#check which types of routines the score -1 is assigned to\n",
    "ins['Missing Score'] = pd.to_numeric(ins['score']) == -1\n",
    "ins_missing_score_pivot = pd.pivot_table(ins[['type','Missing Score']], index = 'type', columns = 'Missing Score', aggfunc = len, fill_value = 0)\n",
    "ins_missing_score_pivot['Total'] = ins_missing_score_pivot.sum(axis = 1)\n",
    "ins_missing_score_pivot.sort_values('Total',ascending = False)"
   ]
  },
  {
   "cell_type": "markdown",
   "id": "357ddc46",
   "metadata": {},
   "source": [
    "Observe that there are -1 scores only for the Routine-Unscheduled inspections. "
   ]
  },
  {
   "cell_type": "markdown",
   "id": "0538e942",
   "metadata": {},
   "source": [
    "## Joining the data"
   ]
  },
  {
   "cell_type": "code",
   "execution_count": 56,
   "id": "1e88f361",
   "metadata": {},
   "outputs": [],
   "source": [
    "temp = pd.to_numeric(ins['score'])\n",
    "ins['score'] = temp"
   ]
  },
  {
   "cell_type": "code",
   "execution_count": 57,
   "id": "b2057b5d",
   "metadata": {},
   "outputs": [
    {
     "data": {
      "text/html": [
       "<div>\n",
       "<style scoped>\n",
       "    .dataframe tbody tr th:only-of-type {\n",
       "        vertical-align: middle;\n",
       "    }\n",
       "\n",
       "    .dataframe tbody tr th {\n",
       "        vertical-align: top;\n",
       "    }\n",
       "\n",
       "    .dataframe thead th {\n",
       "        text-align: right;\n",
       "    }\n",
       "</style>\n",
       "<table border=\"1\" class=\"dataframe\">\n",
       "  <thead>\n",
       "    <tr style=\"text-align: right;\">\n",
       "      <th></th>\n",
       "      <th>iid</th>\n",
       "      <th>date</th>\n",
       "      <th>score</th>\n",
       "      <th>type</th>\n",
       "      <th>bid</th>\n",
       "      <th>timestamp</th>\n",
       "      <th>year</th>\n",
       "      <th>Missing Score</th>\n",
       "      <th>name</th>\n",
       "      <th>address</th>\n",
       "    </tr>\n",
       "  </thead>\n",
       "  <tbody>\n",
       "    <tr>\n",
       "      <th>0</th>\n",
       "      <td>835_20180917</td>\n",
       "      <td>9/17/18 0:00</td>\n",
       "      <td>88.0</td>\n",
       "      <td>Routine - Unscheduled</td>\n",
       "      <td>835</td>\n",
       "      <td>2018-09-17</td>\n",
       "      <td>2018</td>\n",
       "      <td>False</td>\n",
       "      <td>Kam Po Kitchen</td>\n",
       "      <td>801 Broadway St</td>\n",
       "    </tr>\n",
       "    <tr>\n",
       "      <th>1</th>\n",
       "      <td>835_20180917</td>\n",
       "      <td>9/17/18 0:00</td>\n",
       "      <td>88.0</td>\n",
       "      <td>Routine - Unscheduled</td>\n",
       "      <td>835</td>\n",
       "      <td>2018-09-17</td>\n",
       "      <td>2018</td>\n",
       "      <td>False</td>\n",
       "      <td>Kam Po Kitchen</td>\n",
       "      <td>801 Broadway St</td>\n",
       "    </tr>\n",
       "    <tr>\n",
       "      <th>2</th>\n",
       "      <td>835_20180917</td>\n",
       "      <td>9/17/18 0:00</td>\n",
       "      <td>88.0</td>\n",
       "      <td>Routine - Unscheduled</td>\n",
       "      <td>835</td>\n",
       "      <td>2018-09-17</td>\n",
       "      <td>2018</td>\n",
       "      <td>False</td>\n",
       "      <td>Kam Po Kitchen</td>\n",
       "      <td>801 Broadway St</td>\n",
       "    </tr>\n",
       "    <tr>\n",
       "      <th>3</th>\n",
       "      <td>835_20180917</td>\n",
       "      <td>9/17/18 0:00</td>\n",
       "      <td>88.0</td>\n",
       "      <td>Routine - Unscheduled</td>\n",
       "      <td>835</td>\n",
       "      <td>2018-09-17</td>\n",
       "      <td>2018</td>\n",
       "      <td>False</td>\n",
       "      <td>Kam Po Kitchen</td>\n",
       "      <td>801 Broadway St</td>\n",
       "    </tr>\n",
       "    <tr>\n",
       "      <th>4</th>\n",
       "      <td>835_20180917</td>\n",
       "      <td>9/17/18 0:00</td>\n",
       "      <td>88.0</td>\n",
       "      <td>Routine - Unscheduled</td>\n",
       "      <td>835</td>\n",
       "      <td>2018-09-17</td>\n",
       "      <td>2018</td>\n",
       "      <td>False</td>\n",
       "      <td>Kam Po Kitchen</td>\n",
       "      <td>801 Broadway St</td>\n",
       "    </tr>\n",
       "  </tbody>\n",
       "</table>\n",
       "</div>"
      ],
      "text/plain": [
       "            iid          date  score                   type  bid  timestamp  \\\n",
       "0  835_20180917  9/17/18 0:00   88.0  Routine - Unscheduled  835 2018-09-17   \n",
       "1  835_20180917  9/17/18 0:00   88.0  Routine - Unscheduled  835 2018-09-17   \n",
       "2  835_20180917  9/17/18 0:00   88.0  Routine - Unscheduled  835 2018-09-17   \n",
       "3  835_20180917  9/17/18 0:00   88.0  Routine - Unscheduled  835 2018-09-17   \n",
       "4  835_20180917  9/17/18 0:00   88.0  Routine - Unscheduled  835 2018-09-17   \n",
       "\n",
       "   year  Missing Score            name          address  \n",
       "0  2018          False  Kam Po Kitchen  801 Broadway St  \n",
       "1  2018          False  Kam Po Kitchen  801 Broadway St  \n",
       "2  2018          False  Kam Po Kitchen  801 Broadway St  \n",
       "3  2018          False  Kam Po Kitchen  801 Broadway St  \n",
       "4  2018          False  Kam Po Kitchen  801 Broadway St  "
      ]
     },
     "execution_count": 57,
     "metadata": {},
     "output_type": "execute_result"
    }
   ],
   "source": [
    "#Adding the name and address of the business to the inspection table\n",
    "ins_named = pd.merge(ins, bus[['bid','name','address']], how = 'left', on = 'bid' )\n",
    "ins_named.head(5)"
   ]
  },
  {
   "cell_type": "markdown",
   "id": "64dfb6c6",
   "metadata": {},
   "source": [
    "Examine the twenty lowest inspection scoring busninesses."
   ]
  },
  {
   "cell_type": "code",
   "execution_count": 58,
   "id": "dfe7c501",
   "metadata": {},
   "outputs": [
    {
     "name": "stderr",
     "output_type": "stream",
     "text": [
      "<ipython-input-58-8b75a6fa4b13>:3: FutureWarning: Index.ravel returning ndarray is deprecated; in a future version this will return a view on self.\n",
      "  twenty_lowest_scoring.columns =  [\"\".join(x) for x in twenty_lowest_scoring.columns.ravel()]\n"
     ]
    },
    {
     "data": {
      "text/html": [
       "<div>\n",
       "<style scoped>\n",
       "    .dataframe tbody tr th:only-of-type {\n",
       "        vertical-align: middle;\n",
       "    }\n",
       "\n",
       "    .dataframe tbody tr th {\n",
       "        vertical-align: top;\n",
       "    }\n",
       "\n",
       "    .dataframe thead th {\n",
       "        text-align: right;\n",
       "    }\n",
       "</style>\n",
       "<table border=\"1\" class=\"dataframe\">\n",
       "  <thead>\n",
       "    <tr style=\"text-align: right;\">\n",
       "      <th></th>\n",
       "      <th>bid</th>\n",
       "      <th>name</th>\n",
       "      <th>median score</th>\n",
       "    </tr>\n",
       "  </thead>\n",
       "  <tbody>\n",
       "    <tr>\n",
       "      <th>3876</th>\n",
       "      <td>84590</td>\n",
       "      <td>Chaat Corner</td>\n",
       "      <td>54.0</td>\n",
       "    </tr>\n",
       "    <tr>\n",
       "      <th>4564</th>\n",
       "      <td>90622</td>\n",
       "      <td>Taqueria Lolita</td>\n",
       "      <td>57.0</td>\n",
       "    </tr>\n",
       "    <tr>\n",
       "      <th>4990</th>\n",
       "      <td>94351</td>\n",
       "      <td>VBowls LLC</td>\n",
       "      <td>58.0</td>\n",
       "    </tr>\n",
       "    <tr>\n",
       "      <th>2719</th>\n",
       "      <td>69282</td>\n",
       "      <td>New Jumbo Seafood Restaurant</td>\n",
       "      <td>60.5</td>\n",
       "    </tr>\n",
       "    <tr>\n",
       "      <th>222</th>\n",
       "      <td>1154</td>\n",
       "      <td>SUNFLOWER RESTAURANT</td>\n",
       "      <td>63.5</td>\n",
       "    </tr>\n",
       "    <tr>\n",
       "      <th>1991</th>\n",
       "      <td>39776</td>\n",
       "      <td>Duc Loi Supermarket</td>\n",
       "      <td>64.0</td>\n",
       "    </tr>\n",
       "    <tr>\n",
       "      <th>2734</th>\n",
       "      <td>69397</td>\n",
       "      <td>Minna SF Group LLC</td>\n",
       "      <td>64.0</td>\n",
       "    </tr>\n",
       "    <tr>\n",
       "      <th>4870</th>\n",
       "      <td>93150</td>\n",
       "      <td>Chez Beesen</td>\n",
       "      <td>64.0</td>\n",
       "    </tr>\n",
       "    <tr>\n",
       "      <th>4911</th>\n",
       "      <td>93502</td>\n",
       "      <td>Smoky Man</td>\n",
       "      <td>64.0</td>\n",
       "    </tr>\n",
       "    <tr>\n",
       "      <th>3291</th>\n",
       "      <td>78328</td>\n",
       "      <td>Golden Wok</td>\n",
       "      <td>64.0</td>\n",
       "    </tr>\n",
       "    <tr>\n",
       "      <th>5510</th>\n",
       "      <td>98995</td>\n",
       "      <td>Vallarta's Taco Bar</td>\n",
       "      <td>64.0</td>\n",
       "    </tr>\n",
       "    <tr>\n",
       "      <th>2890</th>\n",
       "      <td>71310</td>\n",
       "      <td>Golden King Vietnamese Restaurant</td>\n",
       "      <td>64.5</td>\n",
       "    </tr>\n",
       "    <tr>\n",
       "      <th>1457</th>\n",
       "      <td>10877</td>\n",
       "      <td>CHINA FIRST INC.</td>\n",
       "      <td>64.5</td>\n",
       "    </tr>\n",
       "    <tr>\n",
       "      <th>4352</th>\n",
       "      <td>89070</td>\n",
       "      <td>Lafayette Coffee Shop</td>\n",
       "      <td>64.5</td>\n",
       "    </tr>\n",
       "    <tr>\n",
       "      <th>505</th>\n",
       "      <td>2542</td>\n",
       "      <td>PETER D'S RESTAURANT</td>\n",
       "      <td>65.0</td>\n",
       "    </tr>\n",
       "    <tr>\n",
       "      <th>2874</th>\n",
       "      <td>71008</td>\n",
       "      <td>House of Pancakes</td>\n",
       "      <td>65.0</td>\n",
       "    </tr>\n",
       "    <tr>\n",
       "      <th>818</th>\n",
       "      <td>3862</td>\n",
       "      <td>IMPERIAL GARDEN SEAFOOD RESTAURANT</td>\n",
       "      <td>66.0</td>\n",
       "    </tr>\n",
       "    <tr>\n",
       "      <th>2141</th>\n",
       "      <td>61427</td>\n",
       "      <td>Nick's Foods</td>\n",
       "      <td>66.0</td>\n",
       "    </tr>\n",
       "    <tr>\n",
       "      <th>2954</th>\n",
       "      <td>72176</td>\n",
       "      <td>Wolfes Lunch</td>\n",
       "      <td>66.0</td>\n",
       "    </tr>\n",
       "    <tr>\n",
       "      <th>4367</th>\n",
       "      <td>89141</td>\n",
       "      <td>Cha Cha Cha on Mission</td>\n",
       "      <td>66.5</td>\n",
       "    </tr>\n",
       "  </tbody>\n",
       "</table>\n",
       "</div>"
      ],
      "text/plain": [
       "        bid                                name  median score\n",
       "3876  84590                        Chaat Corner          54.0\n",
       "4564  90622                     Taqueria Lolita          57.0\n",
       "4990  94351                          VBowls LLC          58.0\n",
       "2719  69282        New Jumbo Seafood Restaurant          60.5\n",
       "222    1154                SUNFLOWER RESTAURANT          63.5\n",
       "1991  39776                 Duc Loi Supermarket          64.0\n",
       "2734  69397                  Minna SF Group LLC          64.0\n",
       "4870  93150                         Chez Beesen          64.0\n",
       "4911  93502                           Smoky Man          64.0\n",
       "3291  78328                          Golden Wok          64.0\n",
       "5510  98995                 Vallarta's Taco Bar          64.0\n",
       "2890  71310   Golden King Vietnamese Restaurant          64.5\n",
       "1457  10877                    CHINA FIRST INC.          64.5\n",
       "4352  89070               Lafayette Coffee Shop          64.5\n",
       "505    2542                PETER D'S RESTAURANT          65.0\n",
       "2874  71008                   House of Pancakes          65.0\n",
       "818    3862  IMPERIAL GARDEN SEAFOOD RESTAURANT          66.0\n",
       "2141  61427                        Nick's Foods          66.0\n",
       "2954  72176                        Wolfes Lunch          66.0\n",
       "4367  89141              Cha Cha Cha on Mission          66.5"
      ]
     },
     "execution_count": 58,
     "metadata": {},
     "output_type": "execute_result"
    }
   ],
   "source": [
    "ins_filter = ins_named[~(ins_named['score'] == -1)]\n",
    "twenty_lowest_scoring = ins_filter[['bid','name', 'score']].groupby(['bid','name'], as_index = False).agg({'score': [np.median]})\n",
    "twenty_lowest_scoring.columns =  [\"\".join(x) for x in twenty_lowest_scoring.columns.ravel()]\n",
    "twenty_lowest_scoring = twenty_lowest_scoring.rename(columns = {'scoremedian': 'median score'}).sort_values('median score')\n",
    "twenty_lowest_scoring = twenty_lowest_scoring.iloc[0:20,:]\n",
    "twenty_lowest_scoring"
   ]
  },
  {
   "cell_type": "markdown",
   "id": "41a63753",
   "metadata": {},
   "source": [
    "Examine the descriptions of the violations for inspections with scores between 0 and 65. "
   ]
  },
  {
   "cell_type": "code",
   "execution_count": 59,
   "id": "860f5769",
   "metadata": {},
   "outputs": [
    {
     "data": {
      "text/plain": [
       "Unclean or unsanitary food contact surfaces                                  43\n",
       "High risk food holding temperature                                           42\n",
       "Unclean or degraded floors walls or ceilings                                 40\n",
       "Unapproved or unmaintained equipment or utensils                             39\n",
       "High risk vermin infestation                                                 37\n",
       "Foods not protected from contamination                                       37\n",
       "Inadequate food safety knowledge or lack of certified food safety manager    35\n",
       "Inadequate and inaccessible handwashing facilities                           35\n",
       "Improper thawing methods                                                     30\n",
       "Unclean hands or improper use of gloves                                      27\n",
       "Improper cooling methods                                                     25\n",
       "Unclean nonfood contact surfaces                                             21\n",
       "Improper food storage                                                        20\n",
       "Inadequately cleaned or sanitized food contact surfaces                      20\n",
       "Contaminated or adulterated food                                             18\n",
       "Permit license or inspection report not posted                               16\n",
       "Moderate risk vermin infestation                                             15\n",
       "Moderate risk food holding temperature                                       13\n",
       "Food safety certificate or food handler card not available                   12\n",
       "Improper storage use or identification of toxic substances                   10\n",
       "Name: description, dtype: int64"
      ]
     },
     "execution_count": 59,
     "metadata": {},
     "output_type": "execute_result"
    }
   ],
   "source": [
    "ins_filtered = ins[ (ins['score'] > 0) & (ins['score'] < 65) ]\n",
    "ins_need = ins_filtered[['iid','score']]\n",
    "vio_need = vio[['description','vid']]\n",
    "mer1 = pd.merge(ins_need, ins2vio, how = 'inner', on = 'iid')\n",
    "mer2 = pd.merge(mer1, vio_need, how = 'inner', on = 'vid')\n",
    "\n",
    "low_score_violations = mer2['description'].value_counts()\n",
    "\n",
    "low_score_violations.head(20)"
   ]
  },
  {
   "cell_type": "markdown",
   "id": "ab455e18",
   "metadata": {},
   "source": [
    "### Explore the Inspection Scores"
   ]
  },
  {
   "cell_type": "code",
   "execution_count": 60,
   "id": "fe42028d",
   "metadata": {},
   "outputs": [
    {
     "data": {
      "text/plain": [
       "Text(0.5, 1.0, 'Distribution of Inspection Scores')"
      ]
     },
     "execution_count": 60,
     "metadata": {},
     "output_type": "execute_result"
    },
    {
     "data": {
      "image/png": "[encoded data removed]",
      "text/plain": [
       "<Figure size 432x288 with 1 Axes>"
      ]
     },
     "metadata": {},
     "output_type": "display_data"
    }
   ],
   "source": [
    "#Distribution of the inspection scores \n",
    "values = ins_filter['score'].value_counts().keys().tolist()\n",
    "counts = ins_filter['score'].value_counts().tolist()\n",
    "plt.bar(values, counts)\n",
    "plt.xlabel('Score')\n",
    "plt.ylabel('Count')\n",
    "plt.title('Distribution of Inspection Scores')"
   ]
  },
  {
   "cell_type": "markdown",
   "id": "c6cbb0dd",
   "metadata": {},
   "source": [
    "The mode of the inspection scores is 100, meaning perfect scores made up the largest proportion of inspection scores. Ths distribution of the inspection scores in not symmetrical and negatively skewed with a left tail. There are also no observations or significantly less scores in the gaps near the higher end of the distribution. I can infer that most violations dock more the one point. "
   ]
  },
  {
   "cell_type": "code",
   "execution_count": 61,
   "id": "16c51703",
   "metadata": {},
   "outputs": [
    {
     "data": {
      "text/html": [
       "<div>\n",
       "<style scoped>\n",
       "    .dataframe tbody tr th:only-of-type {\n",
       "        vertical-align: middle;\n",
       "    }\n",
       "\n",
       "    .dataframe tbody tr th {\n",
       "        vertical-align: top;\n",
       "    }\n",
       "\n",
       "    .dataframe thead th {\n",
       "        text-align: right;\n",
       "    }\n",
       "</style>\n",
       "<table border=\"1\" class=\"dataframe\">\n",
       "  <thead>\n",
       "    <tr style=\"text-align: right;\">\n",
       "      <th></th>\n",
       "      <th>iid</th>\n",
       "      <th>date</th>\n",
       "      <th>score</th>\n",
       "      <th>type</th>\n",
       "      <th>bid</th>\n",
       "      <th>timestamp</th>\n",
       "      <th>year</th>\n",
       "      <th>Missing Score</th>\n",
       "      <th>name</th>\n",
       "      <th>address</th>\n",
       "    </tr>\n",
       "  </thead>\n",
       "  <tbody>\n",
       "    <tr>\n",
       "      <th>0</th>\n",
       "      <td>835_20180917</td>\n",
       "      <td>9/17/18 0:00</td>\n",
       "      <td>88.0</td>\n",
       "      <td>Routine - Unscheduled</td>\n",
       "      <td>835</td>\n",
       "      <td>2018-09-17</td>\n",
       "      <td>2018</td>\n",
       "      <td>False</td>\n",
       "      <td>Kam Po Kitchen</td>\n",
       "      <td>801 Broadway St</td>\n",
       "    </tr>\n",
       "    <tr>\n",
       "      <th>1</th>\n",
       "      <td>835_20180917</td>\n",
       "      <td>9/17/18 0:00</td>\n",
       "      <td>88.0</td>\n",
       "      <td>Routine - Unscheduled</td>\n",
       "      <td>835</td>\n",
       "      <td>2018-09-17</td>\n",
       "      <td>2018</td>\n",
       "      <td>False</td>\n",
       "      <td>Kam Po Kitchen</td>\n",
       "      <td>801 Broadway St</td>\n",
       "    </tr>\n",
       "    <tr>\n",
       "      <th>2</th>\n",
       "      <td>835_20180917</td>\n",
       "      <td>9/17/18 0:00</td>\n",
       "      <td>88.0</td>\n",
       "      <td>Routine - Unscheduled</td>\n",
       "      <td>835</td>\n",
       "      <td>2018-09-17</td>\n",
       "      <td>2018</td>\n",
       "      <td>False</td>\n",
       "      <td>Kam Po Kitchen</td>\n",
       "      <td>801 Broadway St</td>\n",
       "    </tr>\n",
       "    <tr>\n",
       "      <th>3</th>\n",
       "      <td>835_20180917</td>\n",
       "      <td>9/17/18 0:00</td>\n",
       "      <td>88.0</td>\n",
       "      <td>Routine - Unscheduled</td>\n",
       "      <td>835</td>\n",
       "      <td>2018-09-17</td>\n",
       "      <td>2018</td>\n",
       "      <td>False</td>\n",
       "      <td>Kam Po Kitchen</td>\n",
       "      <td>801 Broadway St</td>\n",
       "    </tr>\n",
       "    <tr>\n",
       "      <th>4</th>\n",
       "      <td>835_20180917</td>\n",
       "      <td>9/17/18 0:00</td>\n",
       "      <td>88.0</td>\n",
       "      <td>Routine - Unscheduled</td>\n",
       "      <td>835</td>\n",
       "      <td>2018-09-17</td>\n",
       "      <td>2018</td>\n",
       "      <td>False</td>\n",
       "      <td>Kam Po Kitchen</td>\n",
       "      <td>801 Broadway St</td>\n",
       "    </tr>\n",
       "  </tbody>\n",
       "</table>\n",
       "</div>"
      ],
      "text/plain": [
       "            iid          date  score                   type  bid  timestamp  \\\n",
       "0  835_20180917  9/17/18 0:00   88.0  Routine - Unscheduled  835 2018-09-17   \n",
       "1  835_20180917  9/17/18 0:00   88.0  Routine - Unscheduled  835 2018-09-17   \n",
       "2  835_20180917  9/17/18 0:00   88.0  Routine - Unscheduled  835 2018-09-17   \n",
       "3  835_20180917  9/17/18 0:00   88.0  Routine - Unscheduled  835 2018-09-17   \n",
       "4  835_20180917  9/17/18 0:00   88.0  Routine - Unscheduled  835 2018-09-17   \n",
       "\n",
       "   year  Missing Score            name          address  \n",
       "0  2018          False  Kam Po Kitchen  801 Broadway St  \n",
       "1  2018          False  Kam Po Kitchen  801 Broadway St  \n",
       "2  2018          False  Kam Po Kitchen  801 Broadway St  \n",
       "3  2018          False  Kam Po Kitchen  801 Broadway St  \n",
       "4  2018          False  Kam Po Kitchen  801 Broadway St  "
      ]
     },
     "execution_count": 61,
     "metadata": {},
     "output_type": "execute_result"
    }
   ],
   "source": [
    "#Add business id and address to inspection table but set to NaN if business doesn't exist.\n",
    "ins_named = pd.merge(ins, bus[['bid','name','address']], how = 'left', on = 'bid' )\n",
    "ins_named.head()"
   ]
  },
  {
   "cell_type": "code",
   "execution_count": 64,
   "id": "3c7ac670",
   "metadata": {},
   "outputs": [
    {
     "data": {
      "text/plain": [
       "97291    Lollipot\n",
       "Name: name, dtype: object"
      ]
     },
     "execution_count": 64,
     "metadata": {},
     "output_type": "execute_result"
    }
   ],
   "source": [
    "#Find the worst scored restaurant\n",
    "sorted_by_score = ins_named[ins_named['score'] > -1].sort_values(by = ['score'])\n",
    "sorted_by_score.head(1)['name']"
   ]
  },
  {
   "cell_type": "code",
   "execution_count": 70,
   "id": "f943f580",
   "metadata": {},
   "outputs": [
    {
     "data": {
      "text/html": [
       "<div>\n",
       "<style scoped>\n",
       "    .dataframe tbody tr th:only-of-type {\n",
       "        vertical-align: middle;\n",
       "    }\n",
       "\n",
       "    .dataframe tbody tr th {\n",
       "        vertical-align: top;\n",
       "    }\n",
       "\n",
       "    .dataframe thead tr th {\n",
       "        text-align: left;\n",
       "    }\n",
       "\n",
       "    .dataframe thead tr:last-of-type th {\n",
       "        text-align: right;\n",
       "    }\n",
       "</style>\n",
       "<table border=\"1\" class=\"dataframe\">\n",
       "  <thead>\n",
       "    <tr>\n",
       "      <th></th>\n",
       "      <th colspan=\"2\" halign=\"left\">name</th>\n",
       "      <th colspan=\"2\" halign=\"left\">score</th>\n",
       "      <th>swing</th>\n",
       "    </tr>\n",
       "    <tr>\n",
       "      <th></th>\n",
       "      <th>max</th>\n",
       "      <th>min</th>\n",
       "      <th>max</th>\n",
       "      <th>min</th>\n",
       "      <th></th>\n",
       "    </tr>\n",
       "    <tr>\n",
       "      <th>bid</th>\n",
       "      <th></th>\n",
       "      <th></th>\n",
       "      <th></th>\n",
       "      <th></th>\n",
       "      <th></th>\n",
       "    </tr>\n",
       "  </thead>\n",
       "  <tbody>\n",
       "    <tr>\n",
       "      <th>86718</th>\n",
       "      <td>Lollipot</td>\n",
       "      <td>Lollipot</td>\n",
       "      <td>90.0</td>\n",
       "      <td>45.0</td>\n",
       "      <td>45.0</td>\n",
       "    </tr>\n",
       "    <tr>\n",
       "      <th>811</th>\n",
       "      <td>EDEN PLAZA CAFE</td>\n",
       "      <td>EDEN PLAZA CAFE</td>\n",
       "      <td>94.0</td>\n",
       "      <td>58.0</td>\n",
       "      <td>36.0</td>\n",
       "    </tr>\n",
       "    <tr>\n",
       "      <th>66961</th>\n",
       "      <td>Mi Tierra Market</td>\n",
       "      <td>Mi Tierra Market</td>\n",
       "      <td>93.0</td>\n",
       "      <td>57.0</td>\n",
       "      <td>36.0</td>\n",
       "    </tr>\n",
       "    <tr>\n",
       "      <th>1154</th>\n",
       "      <td>SUNFLOWER RESTAURANT</td>\n",
       "      <td>SUNFLOWER RESTAURANT</td>\n",
       "      <td>81.0</td>\n",
       "      <td>46.0</td>\n",
       "      <td>35.0</td>\n",
       "    </tr>\n",
       "    <tr>\n",
       "      <th>81674</th>\n",
       "      <td>Jersey</td>\n",
       "      <td>Jersey</td>\n",
       "      <td>100.0</td>\n",
       "      <td>66.0</td>\n",
       "      <td>34.0</td>\n",
       "    </tr>\n",
       "  </tbody>\n",
       "</table>\n",
       "</div>"
      ],
      "text/plain": [
       "                       name                        score       swing\n",
       "                        max                   min    max   min      \n",
       "bid                                                                 \n",
       "86718              Lollipot              Lollipot   90.0  45.0  45.0\n",
       "811         EDEN PLAZA CAFE       EDEN PLAZA CAFE   94.0  58.0  36.0\n",
       "66961      Mi Tierra Market      Mi Tierra Market   93.0  57.0  36.0\n",
       "1154   SUNFLOWER RESTAURANT  SUNFLOWER RESTAURANT   81.0  46.0  35.0\n",
       "81674                Jersey                Jersey  100.0  66.0  34.0"
      ]
     },
     "execution_count": 70,
     "metadata": {},
     "output_type": "execute_result"
    }
   ],
   "source": [
    "ins_named_filter = ins_named[ins_named['score'] > -1]\n",
    "ins_named_filter = ins_named_filter.groupby('bid')['score'].count().reset_index(name='count')\n",
    "ins_named_filter = ins_named_filter[ins_named_filter['count'] > 2]\n",
    "ins_named_filter = pd.merge(ins_named_filter, ins_named[['name','bid']], how = 'inner', on = 'bid')\n",
    "ins_named_filter\n",
    "new_merge = pd.merge(ins_named_filter[['bid','name']], sorted_by_score[['score','bid']], how = 'inner', on = 'bid')\n",
    "new_merge = new_merge.groupby('bid').agg(['max','min'])\n",
    "new_merge['swing'] = new_merge[('score', 'max')]- new_merge[('score', 'min')]\n",
    "new_merge.sort_values('swing', ascending = False).head(5)"
   ]
  },
  {
   "cell_type": "markdown",
   "id": "c1fda96e",
   "metadata": {},
   "source": [
    "See that Lollipot had the most dramatic change. "
   ]
  },
  {
   "cell_type": "markdown",
   "id": "1044cd6d",
   "metadata": {},
   "source": [
    "Create a multi-indexed dataframe where each row gives information about a business in a single year. "
   ]
  },
  {
   "cell_type": "code",
   "execution_count": 71,
   "id": "78d4b05e",
   "metadata": {},
   "outputs": [
    {
     "data": {
      "text/html": [
       "<div>\n",
       "<style scoped>\n",
       "    .dataframe tbody tr th:only-of-type {\n",
       "        vertical-align: middle;\n",
       "    }\n",
       "\n",
       "    .dataframe tbody tr th {\n",
       "        vertical-align: top;\n",
       "    }\n",
       "\n",
       "    .dataframe thead th {\n",
       "        text-align: right;\n",
       "    }\n",
       "</style>\n",
       "<table border=\"1\" class=\"dataframe\">\n",
       "  <thead>\n",
       "    <tr style=\"text-align: right;\">\n",
       "      <th></th>\n",
       "      <th></th>\n",
       "      <th>count</th>\n",
       "    </tr>\n",
       "    <tr>\n",
       "      <th>bid</th>\n",
       "      <th>year</th>\n",
       "      <th></th>\n",
       "    </tr>\n",
       "  </thead>\n",
       "  <tbody>\n",
       "    <tr>\n",
       "      <th rowspan=\"2\" valign=\"top\">19</th>\n",
       "      <th>2017</th>\n",
       "      <td>1</td>\n",
       "    </tr>\n",
       "    <tr>\n",
       "      <th>2018</th>\n",
       "      <td>1</td>\n",
       "    </tr>\n",
       "    <tr>\n",
       "      <th rowspan=\"3\" valign=\"top\">24</th>\n",
       "      <th>2016</th>\n",
       "      <td>1</td>\n",
       "    </tr>\n",
       "    <tr>\n",
       "      <th>2017</th>\n",
       "      <td>1</td>\n",
       "    </tr>\n",
       "    <tr>\n",
       "      <th>2019</th>\n",
       "      <td>2</td>\n",
       "    </tr>\n",
       "    <tr>\n",
       "      <th>...</th>\n",
       "      <th>...</th>\n",
       "      <td>...</td>\n",
       "    </tr>\n",
       "    <tr>\n",
       "      <th>102518</th>\n",
       "      <th>2019</th>\n",
       "      <td>1</td>\n",
       "    </tr>\n",
       "    <tr>\n",
       "      <th>102577</th>\n",
       "      <th>2019</th>\n",
       "      <td>1</td>\n",
       "    </tr>\n",
       "    <tr>\n",
       "      <th>102602</th>\n",
       "      <th>2019</th>\n",
       "      <td>1</td>\n",
       "    </tr>\n",
       "    <tr>\n",
       "      <th>102702</th>\n",
       "      <th>2019</th>\n",
       "      <td>1</td>\n",
       "    </tr>\n",
       "    <tr>\n",
       "      <th>102705</th>\n",
       "      <th>2019</th>\n",
       "      <td>1</td>\n",
       "    </tr>\n",
       "  </tbody>\n",
       "</table>\n",
       "<p>14464 rows × 1 columns</p>\n",
       "</div>"
      ],
      "text/plain": [
       "             count\n",
       "bid    year       \n",
       "19     2017      1\n",
       "       2018      1\n",
       "24     2016      1\n",
       "       2017      1\n",
       "       2019      2\n",
       "...            ...\n",
       "102518 2019      1\n",
       "102577 2019      1\n",
       "102602 2019      1\n",
       "102702 2019      1\n",
       "102705 2019      1\n",
       "\n",
       "[14464 rows x 1 columns]"
      ]
     },
     "execution_count": 71,
     "metadata": {},
     "output_type": "execute_result"
    }
   ],
   "source": [
    "ins_counts = ins.groupby(['bid','year']).count().rename(columns = {'iid': 'count'})\n",
    "inspections_by_id_and_year = ins_counts[['count']]\n",
    "inspections_by_id_and_year"
   ]
  },
  {
   "cell_type": "code",
   "execution_count": 72,
   "id": "62f2f91b",
   "metadata": {},
   "outputs": [
    {
     "data": {
      "text/plain": [
       "1     7211\n",
       "2     4334\n",
       "3     1729\n",
       "4      703\n",
       "5      294\n",
       "6      116\n",
       "7       39\n",
       "8       22\n",
       "9        7\n",
       "10       4\n",
       "17       1\n",
       "11       1\n",
       "12       1\n",
       "13       1\n",
       "14       1\n",
       "Name: count, dtype: int64"
      ]
     },
     "execution_count": 72,
     "metadata": {},
     "output_type": "execute_result"
    }
   ],
   "source": [
    "#See trends in how many inspections each business has a year\n",
    "inspections_by_id_and_year['count'].value_counts()"
   ]
  },
  {
   "cell_type": "markdown",
   "id": "f73f091b",
   "metadata": {},
   "source": [
    "Want to see if businesses with 2 inspections in a year typically improve, keep it just to 2018. "
   ]
  },
  {
   "cell_type": "code",
   "execution_count": 73,
   "id": "9b67becc",
   "metadata": {},
   "outputs": [
    {
     "data": {
      "text/html": [
       "<div>\n",
       "<style scoped>\n",
       "    .dataframe tbody tr th:only-of-type {\n",
       "        vertical-align: middle;\n",
       "    }\n",
       "\n",
       "    .dataframe tbody tr th {\n",
       "        vertical-align: top;\n",
       "    }\n",
       "\n",
       "    .dataframe thead th {\n",
       "        text-align: right;\n",
       "    }\n",
       "</style>\n",
       "<table border=\"1\" class=\"dataframe\">\n",
       "  <thead>\n",
       "    <tr style=\"text-align: right;\">\n",
       "      <th></th>\n",
       "      <th>score_pair</th>\n",
       "    </tr>\n",
       "    <tr>\n",
       "      <th>bid</th>\n",
       "      <th></th>\n",
       "    </tr>\n",
       "  </thead>\n",
       "  <tbody>\n",
       "    <tr>\n",
       "      <th>48</th>\n",
       "      <td>[87.0, 94.0]</td>\n",
       "    </tr>\n",
       "    <tr>\n",
       "      <th>66</th>\n",
       "      <td>[98.0, 98.0]</td>\n",
       "    </tr>\n",
       "    <tr>\n",
       "      <th>146</th>\n",
       "      <td>[90.0, 81.0]</td>\n",
       "    </tr>\n",
       "    <tr>\n",
       "      <th>184</th>\n",
       "      <td>[96.0, 90.0]</td>\n",
       "    </tr>\n",
       "    <tr>\n",
       "      <th>273</th>\n",
       "      <td>[83.0, 84.0]</td>\n",
       "    </tr>\n",
       "    <tr>\n",
       "      <th>...</th>\n",
       "      <td>...</td>\n",
       "    </tr>\n",
       "    <tr>\n",
       "      <th>95621</th>\n",
       "      <td>[100.0, 100.0]</td>\n",
       "    </tr>\n",
       "    <tr>\n",
       "      <th>95628</th>\n",
       "      <td>[75.0, 75.0]</td>\n",
       "    </tr>\n",
       "    <tr>\n",
       "      <th>95674</th>\n",
       "      <td>[96.0, 100.0]</td>\n",
       "    </tr>\n",
       "    <tr>\n",
       "      <th>95761</th>\n",
       "      <td>[87.0, 91.0]</td>\n",
       "    </tr>\n",
       "    <tr>\n",
       "      <th>95764</th>\n",
       "      <td>[92.0, 100.0]</td>\n",
       "    </tr>\n",
       "  </tbody>\n",
       "</table>\n",
       "<p>535 rows × 1 columns</p>\n",
       "</div>"
      ],
      "text/plain": [
       "           score_pair\n",
       "bid                  \n",
       "48       [87.0, 94.0]\n",
       "66       [98.0, 98.0]\n",
       "146      [90.0, 81.0]\n",
       "184      [96.0, 90.0]\n",
       "273      [83.0, 84.0]\n",
       "...               ...\n",
       "95621  [100.0, 100.0]\n",
       "95628    [75.0, 75.0]\n",
       "95674   [96.0, 100.0]\n",
       "95761    [87.0, 91.0]\n",
       "95764   [92.0, 100.0]\n",
       "\n",
       "[535 rows x 1 columns]"
      ]
     },
     "execution_count": 73,
     "metadata": {},
     "output_type": "execute_result"
    }
   ],
   "source": [
    "ins2018 = ins[(ins['year'] == 2018) & (ins['score'] > -1)]\n",
    "# Create the dataframe here\n",
    "ins_counts18 = ins2018.groupby(['bid','year']).count().rename(columns = {'iid': 'count'})\n",
    "ins_counts18 = ins_counts18[ins_counts18['count'] == 2]\n",
    "ins_counts18 = ins_counts18[['count']]\n",
    "ins_18scores = pd.merge(ins_counts18, ins2018[['score','bid']], how = 'inner', on = 'bid')\n",
    "ins_18scores = ins_18scores.set_index('bid')\n",
    "ins_18scores = ins_18scores[['score'] ]\n",
    "\n",
    "scores_pairs_by_business = ins_18scores.groupby('bid')['score'].apply(list).to_frame()\n",
    "scores_pairs_by_business = scores_pairs_by_business.rename(columns = {'score': 'score_pair'})\n",
    "scores_pairs_by_business"
   ]
  },
  {
   "cell_type": "code",
   "execution_count": 74,
   "id": "05fb5764",
   "metadata": {},
   "outputs": [
    {
     "data": {
      "text/plain": [
       "[<matplotlib.lines.Line2D at 0x7ff2988b4af0>]"
      ]
     },
     "execution_count": 74,
     "metadata": {},
     "output_type": "execute_result"
    },
    {
     "data": {
      "image/png": "[encoded data removed]",
      "text/plain": [
       "<Figure size 432x288 with 1 Axes>"
      ]
     },
     "metadata": {},
     "output_type": "display_data"
    }
   ],
   "source": [
    "#scatter plot of the first vs second inspection scores\n",
    "list_pairs = scores_pairs_by_business['score_pair'].tolist()\n",
    "x,y = zip(*list_pairs)\n",
    "plt.scatter(x , y, facecolors = 'none', edgecolors = 'b')\n",
    "plt.xlabel('First Score')\n",
    "plt.ylabel('Second Score')\n",
    "plt.title('First Inspection Score vs. Second Inspection Score')\n",
    "plt.axis(xmin = 55, xmax = 100, ymin = 55, ymax = 100)\n",
    "plt.plot([55,100], [55,100], color = 'red')"
   ]
  },
  {
   "cell_type": "markdown",
   "id": "78f5a0ef",
   "metadata": {},
   "source": [
    "If restaurants' scores tend to improve from the first to the second inspection, I would expect the points of the scatter plot to be above the line y = x, or the diagonal runnign through the center of the graph. The plot though shows a fairly equal distribution of points on both side of the line and not consistent with the tendency of scores to improve from the first to second inspection."
   ]
  },
  {
   "cell_type": "code",
   "execution_count": 75,
   "id": "003473d1",
   "metadata": {},
   "outputs": [
    {
     "data": {
      "text/plain": [
       "Text(0.5, 1.0, 'Distribution of Score Differences')"
      ]
     },
     "execution_count": 75,
     "metadata": {},
     "output_type": "execute_result"
    },
    {
     "data": {
      "image/png": "[encoded data removed]",
      "text/plain": [
       "<Figure size 432x288 with 1 Axes>"
      ]
     },
     "metadata": {},
     "output_type": "display_data"
    }
   ],
   "source": [
    "#distribution graph of the differences between the 2 inspection scores\n",
    "differences = []\n",
    "for i in list_pairs:\n",
    "    differences.append(i[1] - i[0])\n",
    "plt.hist(differences, bins = 20)\n",
    "plt.xlabel('Score Difference (Second Score - First Score)')\n",
    "plt.ylabel('Count')\n",
    "plt.title('Distribution of Score Differences')"
   ]
  },
  {
   "cell_type": "markdown",
   "id": "9b309b8c",
   "metadata": {},
   "source": [
    "If scores improved from the first to the second inspection, I would expect that the majority of the distribution be on the positive side, or right side of 0, and the center of the distribution to be above 0. The drawn histogram shows however that the center of the distribution is at 0 and spread rougly equally the center. This is not consistent with the tendency of scores to improve from the first to second inspection."
   ]
  },
  {
   "cell_type": "code",
   "execution_count": 76,
   "id": "e7b719b1",
   "metadata": {},
   "outputs": [
    {
     "data": {
      "image/png": "[encoded data removed]",
      "text/plain": [
       "<Figure size 864x576 with 1 Axes>"
      ]
     },
     "metadata": {},
     "output_type": "display_data"
    }
   ],
   "source": [
    "#Boxplot that shows the distributions of restuarant scores over time for different risk categories 2017-2019\n",
    "need_ins = ins[(ins['score'] > -1) & ~(ins['year'] == 2016)][['score', 'iid','year']]\n",
    "need_vio = vio[['vid','risk_category']]\n",
    "mer3 = pd.merge(need_ins, ins2vio, how = 'inner', on = 'iid')\n",
    "mer4 = pd.merge(mer3, need_vio, how = 'inner', on = 'vid')\n",
    "mer4 = mer4[['score','risk_category','year']]\n",
    "\n",
    "# Do not modify this line\n",
    "plt.figure(figsize = (12,8))\n",
    "sns.set()\n",
    "ax = sns.boxplot(x='year', y='score', hue = 'risk_category', data=mer4, hue_order = ['Low Risk', 'Moderate Risk', 'High Risk'])\n"
   ]
  }
 ],
 "metadata": {
  "kernelspec": {
   "display_name": "Python 3",
   "language": "python",
   "name": "python3"
  },
  "language_info": {
   "codemirror_mode": {
    "name": "ipython",
    "version": 3
   },
   "file_extension": ".py",
   "mimetype": "text/x-python",
   "name": "python",
   "nbconvert_exporter": "python",
   "pygments_lexer": "ipython3",
   "version": "3.8.8"
  }
 },
 "nbformat": 4,
 "nbformat_minor": 5
}
